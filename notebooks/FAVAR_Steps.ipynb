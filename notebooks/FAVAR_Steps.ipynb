{
 "cells": [
  {
   "cell_type": "code",
   "execution_count": null,
   "id": "1e0e8b87",
   "metadata": {
    "pycharm": {
     "name": "#%%\n"
    }
   },
   "outputs": [],
   "source": [
    "import pandas as pd\n",
    "import numpy as np\n",
    "import matplotlib.pyplot as plt\n",
    "%matplotlib inline\n",
    "from numpy import recfromtxt, column_stack, array\n",
    "from pandas import DataFrame\n",
    "\n",
    "# Import Statsmodels\n",
    "from statsmodels.tsa.api import VAR\n",
    "from statsmodels.tsa.stattools import adfuller\n",
    "from statsmodels.tools.eval_measures import rmse, aic\n",
    "import statsmodels.api as sm\n",
    "from statsmodels.tsa.base import  datetools\n",
    "from statsmodels.datasets.utils import Dataset\n",
    "from os.path import dirname, abspath\n",
    " \n",
    "from sklearn.decomposition import PCA\n",
    "from sklearn.preprocessing import StandardScaler\n",
    "\n",
    "import mlflow\n",
    "import warnings\n",
    "warnings.filterwarnings('ignore')\n",
    "import seaborn as sns  # to plot the heat maps"
   ]
  },
  {
   "cell_type": "code",
   "execution_count": null,
   "id": "dacdd683",
   "metadata": {
    "pycharm": {
     "name": "#%%\n"
    }
   },
   "outputs": [],
   "source": [
    "# Reading Data\n",
    "df = pd.read_excel(\"data/raw/favardata1105.xlsx\")\n",
    "# dfdate = df\n",
    "df = df.set_index('date')\n",
    "df"
   ]
  },
  {
   "cell_type": "code",
   "execution_count": null,
   "id": "43729e64",
   "metadata": {
    "pycharm": {
     "name": "#%%\n"
    }
   },
   "outputs": [],
   "source": []
  },
  {
   "cell_type": "code",
   "execution_count": null,
   "id": "89b0a4d9",
   "metadata": {
    "pycharm": {
     "name": "#%%\n"
    }
   },
   "outputs": [],
   "source": [
    "# Taking Log of selected columns\n",
    "dflog = np.log(df[[ 'ABCPI', 'ARY', 'ASI', 'BLAG', 'BLMF', 'BLOG', 'BLPS', 'BLSM', 'BLTL', 'BLUS', 'BLXP', 'C1CPI', 'C2CPI', \n",
    "                    'CCPI', 'CCPS', 'CFCPI', 'CGRY', 'COP', 'CPD', 'CPS', 'COS', 'CRY', 'ECPI', 'ER', 'EUR', 'EXR', 'FCPI',\n",
    "                    'FHCPI', 'FNCPI', 'FRY', 'GBP', 'GRV', 'GXP', 'HHCPI', 'HRY', 'HWCPI', 'IEP', 'IIP', 'IMAP', 'IMIP',\n",
    "                    'IMP', 'IRY', 'M1', 'M2', 'MCPI', 'MRY', 'NDC', 'NFA', 'NORY', 'PRY', 'QM', 'RCCPI', 'RHCPI', 'RINV', \n",
    "                    'RPC', 'RPDI', 'RR', 'RRY', 'RUCPI', 'RY', 'SD', 'SMRY', 'SRY', 'TCPI', 'TD', 'TRY', 'URCPI', 'URY', \n",
    "                    'USD', 'EXP', 'MPMIS']])\n",
    "dflog"
   ]
  },
  {
   "cell_type": "code",
   "execution_count": null,
   "id": "425828ac",
   "metadata": {
    "pycharm": {
     "name": "#%%\n"
    }
   },
   "outputs": [],
   "source": [
    "# Diffferencing Logged Values of selected columns\n",
    "dflogdiff = dflog[[ 'C1CPI','C2CPI','FCPI','FNCPI','ABCPI','CFCPI','HWCPI','FHCPI','HHCPI','TCPI','CCPI','RCCPI','ECPI',\n",
    "                   'RHCPI','MCPI','URCPI','RUCPI','CPD','EXP','IMP','GXP','IRY','SMRY','MRY','SRY','TRY','CRY','URY','PRY',\n",
    "                   'RINV','IMAP','IMIP','IEP','IIP','COP','GBP','EUR','ASI','M1','QM','CCPS','COS','SD','TD','RR','ER','NFA',\n",
    "                   'NDC','EXR','BLPS','BLAG','BLSM','BLXP','BLMF','BLUS','BLOG','BLTL','USD' ]]"
   ]
  },
  {
   "cell_type": "code",
   "execution_count": null,
   "id": "91865d22",
   "metadata": {
    "pycharm": {
     "name": "#%%\n"
    }
   },
   "outputs": [],
   "source": [
    "dflogdiff = dflogdiff - dflogdiff.shift(4)\n",
    "dflogdiff"
   ]
  },
  {
   "cell_type": "code",
   "execution_count": null,
   "id": "65325225",
   "metadata": {
    "pycharm": {
     "name": "#%%\n"
    }
   },
   "outputs": [],
   "source": [
    "# Differencing of selected values \n",
    "dfonlydiff = df[['MDR1','MDR3','MDR6','MDR12','PLR','MLR','IBCR','TBR','CRR']]\n",
    "dfonlydiff = dfonlydiff - dfonlydiff.shift(4)\n",
    "dfonlydiff"
   ]
  },
  {
   "cell_type": "code",
   "execution_count": null,
   "id": "b31e2f66",
   "metadata": {
    "pycharm": {
     "name": "#%%\n"
    }
   },
   "outputs": [],
   "source": [
    "# GROWTH RATE of Selected Columns\n",
    "grdfn = df[['HCPI','RY','ARY','ICRY','TTRY','RRY','ERY','HRY','M2','CGRY','NORY']]\n",
    "growth_rate = ((grdfn - grdfn.shift(4)) / grdfn.shift(4)) * 100\n",
    "growth_rate"
   ]
  },
  {
   "cell_type": "markdown",
   "id": "07eb5da9",
   "metadata": {
    "pycharm": {
     "name": "#%% md\n"
    }
   },
   "source": [
    "#### Grouping of Dataframes"
   ]
  },
  {
   "cell_type": "code",
   "execution_count": null,
   "id": "be3f7093",
   "metadata": {
    "pycharm": {
     "name": "#%%\n"
    }
   },
   "outputs": [],
   "source": [
    "groupL = dflog[[ 'ABCPI', 'GRV', 'RPC', 'RPDI']]\n",
    "# groupL = groupL.assign(df['date'])\n",
    "groupL"
   ]
  },
  {
   "cell_type": "code",
   "execution_count": null,
   "id": "3036892e",
   "metadata": {
    "pycharm": {
     "name": "#%%\n"
    }
   },
   "outputs": [],
   "source": [
    "#Note: Removed IRY from here\n",
    "groupDL = dflogdiff[[ 'C1CPI','C2CPI','FCPI','FNCPI','CFCPI','HWCPI','FHCPI','HHCPI','TCPI','CCPI','RCCPI','ECPI','RHCPI',\n",
    "                     'MCPI','URCPI','RUCPI','CPD','EXP','IMP','GXP','RINV','IMAP','IMIP','IEP','IIP','GBP','EUR','ASI',\n",
    "                     'QM','CCPS','COS','SD','TD','ER','NFA','NDC','EXR','BLTL' ]]\n",
    "groupDL"
   ]
  },
  {
   "cell_type": "code",
   "execution_count": null,
   "id": "b8acf05c",
   "metadata": {
    "pycharm": {
     "name": "#%%\n"
    }
   },
   "outputs": [],
   "source": [
    "#Note: Removed RY from here\n",
    "groupGR = growth_rate[['HCPI', 'M2','CGRY', 'NORY']]\n",
    "groupGR"
   ]
  },
  {
   "cell_type": "code",
   "execution_count": null,
   "id": "275a38c9",
   "metadata": {
    "pycharm": {
     "name": "#%%\n"
    }
   },
   "outputs": [],
   "source": [
    "SubGroup = pd.merge(pd.merge(groupL, groupDL, on=['date']), pd.merge(dfonlydiff, groupGR, on=['date']), on=['date'])"
   ]
  },
  {
   "cell_type": "code",
   "execution_count": null,
   "id": "501b0f57",
   "metadata": {
    "pycharm": {
     "name": "#%%\n"
    }
   },
   "outputs": [],
   "source": [
    "# Final Group\n",
    "FinalGroup = pd.merge(SubGroup, df['SDR'],  on=['date'])"
   ]
  },
  {
   "cell_type": "code",
   "execution_count": null,
   "id": "859d4e0a",
   "metadata": {
    "pycharm": {
     "name": "#%%\n"
    }
   },
   "outputs": [],
   "source": [
    "# Dropping all rows with NaN\n",
    "FinalGroup = FinalGroup.dropna()\n",
    "FinalGroup"
   ]
  },
  {
   "cell_type": "code",
   "execution_count": null,
   "id": "a513af53",
   "metadata": {
    "pycharm": {
     "name": "#%%\n"
    }
   },
   "outputs": [],
   "source": [
    "# Generating Princioal Components\n",
    "pca5 = PCA(n_components=5)\n",
    "principalComponents = pca5.fit_transform(FinalGroup)"
   ]
  },
  {
   "cell_type": "code",
   "execution_count": null,
   "id": "7d73a676",
   "metadata": {
    "pycharm": {
     "name": "#%%\n"
    }
   },
   "outputs": [],
   "source": [
    "# Converting PCs to Dataframe\n",
    "Dfpc = pd.DataFrame(data = principalComponents, columns = ['pc1', 'pc2', 'pc3', 'pc4', 'pc5'], index=FinalGroup.index)\n",
    "Dfpc"
   ]
  },
  {
   "cell_type": "markdown",
   "id": "9c1af689",
   "metadata": {
    "pycharm": {
     "name": "#%% md\n"
    }
   },
   "source": [
    "#### Testing for stationarity"
   ]
  },
  {
   "cell_type": "code",
   "execution_count": null,
   "id": "9becc48a",
   "metadata": {
    "pycharm": {
     "name": "#%%\n"
    }
   },
   "outputs": [],
   "source": [
    "def test_stationary(timeseries):\n",
    "    \n",
    "    #Determining rolling statistics\n",
    "    movingAvg = timeseries.rolling(window=4).mean()\n",
    "    movingSTD = timeseries.rolling(window=4).std()\n",
    "    \n",
    "    #Plot rolling statistics:\n",
    "    orig = plt.plot(timeseries, color='blue', label='Original')\n",
    "    mean = plt.plot(movingAvg, color='red', label='Rolling mean')\n",
    "    std = plt.plot(movingSTD, color='black', label='Rolling std')\n",
    "    plt.legend(loc='best')\n",
    "    plt.title('Rolling Mean & Standard Deviation')\n",
    "    plt.show(block=False)\n",
    "    \n",
    "    #Perform Dickey-Fuller Test\n",
    "    print('Results of Dickey-Fuller Test:')\n",
    "    dftest = adfuller(timeseries.dropna(),autolag='AIC') # .dropna() handles differenced data\n",
    "    labels = ['ADF test statistic','p-value','# lags used','# observations']\n",
    "    out = pd.Series(dftest[0:4],index=labels)\n",
    "    for key,val in dftest[4].items():\n",
    "        out[f'critical value ({key})']=val\n",
    "    print(out.to_string())          # .to_string() removes the line \"dtype: float64\"\n",
    "    if dftest[1] <= 0.05:\n",
    "        print(\"Strong evidence against the null hypothesis\")\n",
    "        print(\"Reject the null hypothesis\")\n",
    "        print(\"Data has no unit root and is stationary\")\n",
    "    else:\n",
    "        print(\"Weak evidence against the null hypothesis\")\n",
    "        print(\"Fail to reject the null hypothesis\")\n",
    "        print(\"Data has a unit root and is non-stationary\")"
   ]
  },
  {
   "cell_type": "code",
   "execution_count": null,
   "id": "9fd02b93",
   "metadata": {
    "pycharm": {
     "name": "#%%\n"
    }
   },
   "outputs": [],
   "source": [
    "test_stationary(Dfpc['pc1'])"
   ]
  },
  {
   "cell_type": "code",
   "execution_count": null,
   "id": "2b5bc32d",
   "metadata": {
    "pycharm": {
     "name": "#%%\n"
    }
   },
   "outputs": [],
   "source": [
    "test_stationary(Dfpc['pc2'])"
   ]
  },
  {
   "cell_type": "code",
   "execution_count": null,
   "id": "e1040716",
   "metadata": {
    "pycharm": {
     "name": "#%%\n"
    }
   },
   "outputs": [],
   "source": [
    "test_stationary(Dfpc['pc3'])"
   ]
  },
  {
   "cell_type": "code",
   "execution_count": null,
   "id": "2c6a844d",
   "metadata": {
    "pycharm": {
     "name": "#%%\n"
    }
   },
   "outputs": [],
   "source": [
    "test_stationary(Dfpc['pc4'])"
   ]
  },
  {
   "cell_type": "code",
   "execution_count": null,
   "id": "0a1e2252",
   "metadata": {
    "pycharm": {
     "name": "#%%\n"
    }
   },
   "outputs": [],
   "source": [
    "test_stationary(Dfpc['pc5'])"
   ]
  },
  {
   "cell_type": "code",
   "execution_count": null,
   "id": "a2155bee",
   "metadata": {
    "pycharm": {
     "name": "#%%\n"
    }
   },
   "outputs": [],
   "source": [
    "# Differencing the non stationary PCs to achieve stationarity\n",
    "DfpcDiff = Dfpc - Dfpc.shift()\n",
    "plt.plot(DfpcDiff)\n",
    "plt.show()"
   ]
  },
  {
   "cell_type": "code",
   "execution_count": null,
   "id": "4f778d34",
   "metadata": {
    "pycharm": {
     "name": "#%%\n"
    }
   },
   "outputs": [],
   "source": [
    "DfpcDiff.dropna(inplace=True)"
   ]
  },
  {
   "cell_type": "code",
   "execution_count": null,
   "id": "4683e3cc",
   "metadata": {
    "pycharm": {
     "name": "#%%\n"
    }
   },
   "outputs": [],
   "source": [
    "test_stationary(DfpcDiff['pc3'])"
   ]
  },
  {
   "cell_type": "code",
   "execution_count": null,
   "id": "ce15fab1",
   "metadata": {
    "pycharm": {
     "name": "#%%\n"
    }
   },
   "outputs": [],
   "source": [
    "# Create a dataframe with PCs and dlRY\n",
    "df_sub = growth_rate[\"RY\"].iloc[3:]\n",
    "df_sub"
   ]
  },
  {
   "cell_type": "code",
   "execution_count": null,
   "id": "dfa1335d",
   "metadata": {
    "pycharm": {
     "name": "#%%\n"
    }
   },
   "outputs": [],
   "source": [
    "df_pcsRY = DfpcDiff.assign(dlRY=df_sub)\n",
    "df_pcsRY"
   ]
  },
  {
   "cell_type": "code",
   "execution_count": null,
   "id": "00c69316",
   "metadata": {
    "pycharm": {
     "name": "#%%\n"
    }
   },
   "outputs": [],
   "source": [
    "# Sampling of Endogenous Variables\n",
    "endog = df_pcsRY.loc['2017-03-31':'2021-12-31', ['pc1','pc2','pc3','pc4','pc5','dlRY']]\n",
    "endog"
   ]
  },
  {
   "cell_type": "code",
   "execution_count": null,
   "id": "81ab24f7",
   "metadata": {
    "pycharm": {
     "name": "#%%\n"
    }
   },
   "outputs": [],
   "source": [
    "exog = np.log(df[['COP50','COP55','COP60','COP65','COP70','COP75','COP80','COP85','COP90','COP95','COP100','COP105','COP110','MPMIS1']])\n",
    "\n",
    "log_gxp = np.log(df['GXP1'])\n",
    "dfgxp = log_gxp - log_gxp.shift(4)\n",
    "\n",
    "exog = pd.merge(exog, dfgxp,  on=['date']) \n",
    "exog"
   ]
  },
  {
   "cell_type": "code",
   "execution_count": null,
   "id": "a469a765",
   "metadata": {
    "pycharm": {
     "name": "#%%\n"
    }
   },
   "outputs": [],
   "source": [
    "# Sampling of Exogenous Variables\n",
    "exogC = exog.loc['2017-03-31':'2021-12-31', ['COP50', 'GXP1', 'MPMIS1']]\n",
    "exogC"
   ]
  },
  {
   "cell_type": "markdown",
   "id": "73da51ca",
   "metadata": {
    "pycharm": {
     "name": "#%% md\n"
    }
   },
   "source": [
    "## VARx Model"
   ]
  },
  {
   "cell_type": "code",
   "execution_count": null,
   "id": "0d59fe64",
   "metadata": {
    "pycharm": {
     "name": "#%%\n"
    }
   },
   "outputs": [],
   "source": [
    "var = VAR(endog, exogC)"
   ]
  },
  {
   "cell_type": "code",
   "execution_count": null,
   "id": "967f9225",
   "metadata": {
    "pycharm": {
     "name": "#%%\n"
    }
   },
   "outputs": [],
   "source": [
    "# Checking best lag value\n",
    "x= var.select_order()\n",
    "x.summary()"
   ]
  },
  {
   "cell_type": "code",
   "execution_count": null,
   "id": "e339b073",
   "metadata": {
    "pycharm": {
     "name": "#%%\n"
    }
   },
   "outputs": [],
   "source": [
    "results = var.fit(1)\n",
    "#We can check the summary of the model by.\n",
    "results.summary()"
   ]
  },
  {
   "cell_type": "code",
   "execution_count": null,
   "id": "fb3f2d84",
   "metadata": {
    "pycharm": {
     "name": "#%%\n"
    }
   },
   "outputs": [],
   "source": [
    "# prob column (p-value) and only consider regressors where p-values are small (<.05)\n",
    "# COP & L1.pc4\n",
    "# Get the values on the cooefficient column of the two = 0.109589 & 0.324013\n",
    "### dlRYts = 0.11*dlRY(COP) - 0.32*dlRY(l1.pc4)"
   ]
  },
  {
   "cell_type": "code",
   "execution_count": null,
   "id": "bbc50b7b",
   "metadata": {
    "pycharm": {
     "name": "#%%\n"
    }
   },
   "outputs": [],
   "source": [
    "results.plot();"
   ]
  },
  {
   "cell_type": "code",
   "execution_count": null,
   "id": "f9035e16",
   "metadata": {
    "pycharm": {
     "name": "#%%\n"
    }
   },
   "outputs": [],
   "source": [
    "results.save(\"favarmodel.pickle\")\n",
    "\n",
    "import pickle\n",
    "with open('favar_learned_model.pkl','wb') as f:\n",
    "    pickle.dump(results,f)"
   ]
  },
  {
   "cell_type": "code",
   "execution_count": null,
   "id": "217a0e77",
   "metadata": {
    "pycharm": {
     "name": "#%%\n"
    }
   },
   "outputs": [],
   "source": [
    "import pickle\n",
    "\n",
    "# # Open the file in binary mode\n",
    "with open('favarmodel.pickle', 'rb') as file:\n",
    "      \n",
    "#     # Call load method to deserialze\n",
    "    myvar = pickle.load(file)\n",
    "    print(myvar)"
   ]
  },
  {
   "cell_type": "code",
   "execution_count": null,
   "id": "90642a52",
   "metadata": {
    "pycharm": {
     "name": "#%%\n"
    }
   },
   "outputs": [],
   "source": []
  },
  {
   "cell_type": "code",
   "execution_count": null,
   "id": "056f89b0",
   "metadata": {
    "pycharm": {
     "name": "#%%\n"
    }
   },
   "outputs": [],
   "source": []
  },
  {
   "cell_type": "code",
   "execution_count": null,
   "id": "32611d3a",
   "metadata": {
    "pycharm": {
     "name": "#%%\n"
    }
   },
   "outputs": [],
   "source": []
  },
  {
   "cell_type": "code",
   "execution_count": null,
   "id": "603c7e09",
   "metadata": {
    "pycharm": {
     "name": "#%%\n"
    }
   },
   "outputs": [],
   "source": []
  },
  {
   "cell_type": "code",
   "execution_count": null,
   "id": "0ad097fc",
   "metadata": {
    "pycharm": {
     "name": "#%%\n"
    }
   },
   "outputs": [],
   "source": [
    "exogF = exog.loc['2022-03-31':'2022-12-31', ['COP50', 'GXP1', 'MPMIS1']]\n",
    "exogF"
   ]
  },
  {
   "cell_type": "code",
   "execution_count": null,
   "id": "8a6e719b",
   "metadata": {
    "pycharm": {
     "name": "#%%\n"
    }
   },
   "outputs": [],
   "source": [
    "exogF.to_csv(\"exogF.csv\")"
   ]
  },
  {
   "cell_type": "code",
   "execution_count": null,
   "id": "30949d3e",
   "metadata": {
    "pycharm": {
     "name": "#%%\n"
    }
   },
   "outputs": [],
   "source": [
    "# df[-4:-3].index"
   ]
  },
  {
   "cell_type": "code",
   "execution_count": null,
   "id": "f2e07c37",
   "metadata": {
    "pycharm": {
     "name": "#%%\n"
    }
   },
   "outputs": [],
   "source": [
    "forecast = myvar.forecast(endog.values[-1:], steps=4, exog_future=exogF)"
   ]
  },
  {
   "cell_type": "code",
   "execution_count": null,
   "id": "3c562bcb",
   "metadata": {
    "pycharm": {
     "name": "#%%\n"
    }
   },
   "outputs": [],
   "source": [
    "forecastdf = pd.DataFrame(data = forecast, columns = ['pc1', 'pc2', 'pc3', 'pc4', 'pc5', 'dlRY'], index=exogF.index)\n",
    "\n",
    "# forecastdf.reset_index(inplace=True)\n",
    "\n",
    "forecastdf['dlRY']"
   ]
  },
  {
   "cell_type": "code",
   "execution_count": null,
   "id": "53c601dc",
   "metadata": {
    "pycharm": {
     "name": "#%%\n"
    }
   },
   "outputs": [],
   "source": [
    "# forecastdf.set_index(exogF.index, inplace = True)"
   ]
  },
  {
   "cell_type": "code",
   "execution_count": null,
   "id": "b21daf15",
   "metadata": {
    "pycharm": {
     "name": "#%%\n"
    }
   },
   "outputs": [],
   "source": [
    "growth_rate['RY'].plot()"
   ]
  },
  {
   "cell_type": "code",
   "execution_count": null,
   "id": "005aa692",
   "metadata": {
    "pycharm": {
     "name": "#%%\n"
    }
   },
   "outputs": [],
   "source": [
    "forecastdf['dlRY'].plot()"
   ]
  },
  {
   "cell_type": "code",
   "execution_count": null,
   "id": "7eed3d66",
   "metadata": {
    "pycharm": {
     "name": "#%%\n"
    }
   },
   "outputs": [],
   "source": [
    "\n"
   ]
  },
  {
   "cell_type": "code",
   "execution_count": null,
   "id": "8817d84a",
   "metadata": {
    "pycharm": {
     "name": "#%%\n"
    }
   },
   "outputs": [],
   "source": []
  },
  {
   "cell_type": "code",
   "execution_count": null,
   "id": "32be4928",
   "metadata": {
    "pycharm": {
     "name": "#%%\n"
    }
   },
   "outputs": [],
   "source": []
  },
  {
   "cell_type": "code",
   "execution_count": null,
   "id": "dd71fe70",
   "metadata": {
    "pycharm": {
     "name": "#%%\n"
    }
   },
   "outputs": [],
   "source": [
    "exogC_55 = exog.loc['2017-03-31 00:00:00':'2021-12-31 00:00:00', ['COP55', 'GXP1', 'MPMIS1']]\n",
    "\n",
    "# VAR 55\n",
    "var55 = VAR(endog, exogC_55)\n",
    "# x= var.select_order()\n",
    "# x.summary()\n",
    "results55 = var.fit(1)\n",
    "#We can check the summary of the model by.\n",
    "results55.summary()\n",
    "exogF_55 = exog.loc['2022-03-31 00:00:00':'2022-12-31 00:00:00', ['COP55', 'GXP1', 'MPMIS1']]\n",
    "forecast55 = results55.forecast(endog.values[-1:], steps=4, exog_future=exogF_55)\n",
    "forecastdf55 = pd.DataFrame(data = forecast55, columns = ['pc1', 'pc2', 'pc3', 'pc4', 'pc5', 'dlRY'], index=exogF_55.index)\n",
    "forecastdf55.reset_index(inplace=True)\n",
    "forecastdf55['dlRY']"
   ]
  },
  {
   "cell_type": "code",
   "execution_count": null,
   "id": "4bfab728",
   "metadata": {
    "pycharm": {
     "name": "#%%\n"
    }
   },
   "outputs": [],
   "source": [
    "forecastdf55['dlRY'].plot()"
   ]
  },
  {
   "cell_type": "code",
   "execution_count": null,
   "id": "e98841e7",
   "metadata": {
    "pycharm": {
     "name": "#%%\n"
    }
   },
   "outputs": [],
   "source": [
    "exogC_60 = exog.loc['2017-03-31 00:00:00':'2021-12-31 00:00:00', ['COP60', 'GXP1', 'MPMIS1']]\n",
    "\n",
    "# VAR 60\n",
    "var60 = VAR(endog, exogC_60)\n",
    "# x= var.select_order()\n",
    "# x.summary()\n",
    "results60 = var.fit(1)\n",
    "#We can check the summary of the model by.\n",
    "results60.summary()\n",
    "exogF_60 = exog.loc['2022-03-31 00:00:00':'2022-12-31 00:00:00', ['COP60', 'GXP1', 'MPMIS1']]\n",
    "forecast60 = results60.forecast(endog.values[-1:], steps=4, exog_future=exogF_60)\n",
    "forecastdf60 = pd.DataFrame(data = forecast60, columns = ['pc1', 'pc2', 'pc3', 'pc4', 'pc5', 'dlRY'], index=exogF_60.index)\n",
    "forecastdf60.reset_index(inplace=True)\n",
    "forecastdf60['dlRY']"
   ]
  },
  {
   "cell_type": "code",
   "execution_count": null,
   "id": "b7059767",
   "metadata": {
    "pycharm": {
     "name": "#%%\n"
    }
   },
   "outputs": [],
   "source": [
    "forecastdf60['dlRY'].plot()"
   ]
  },
  {
   "cell_type": "code",
   "execution_count": null,
   "id": "7bc609a4",
   "metadata": {
    "pycharm": {
     "name": "#%%\n"
    }
   },
   "outputs": [],
   "source": [
    "exogC_65 = exog.loc['2017-03-31 00:00:00':'2021-12-31 00:00:00', ['COP65', 'GXP1', 'MPMIS1']]\n",
    "\n",
    "# VAR 65\n",
    "var65 = VAR(endog, exogC_65)\n",
    "# x= var.select_order()\n",
    "# x.summary()\n",
    "results65 = var.fit(1)\n",
    "#We can check the summary of the model by.\n",
    "results65.summary()\n",
    "exogF_65 = exog.loc['2022-03-31 00:00:00':'2022-12-31 00:00:00', ['COP65', 'GXP1', 'MPMIS1']]\n",
    "forecast65 = results65.forecast(endog.values[-1:], steps=4, exog_future=exogF_65)\n",
    "forecastdf65 = pd.DataFrame(data = forecast65, columns = ['pc1', 'pc2', 'pc3', 'pc4', 'pc5', 'dlRY'], index=exogF_65.index)\n",
    "forecastdf65.reset_index(inplace=True)\n",
    "forecastdf65"
   ]
  },
  {
   "cell_type": "code",
   "execution_count": null,
   "id": "d6202352",
   "metadata": {
    "pycharm": {
     "name": "#%%\n"
    }
   },
   "outputs": [],
   "source": [
    "forecastdf65['dlRY'].plot()"
   ]
  },
  {
   "cell_type": "code",
   "execution_count": null,
   "id": "856537d2",
   "metadata": {
    "pycharm": {
     "name": "#%%\n"
    }
   },
   "outputs": [],
   "source": [
    "exogC_85 = exog.loc['2017-03-31':'2021-12-31', ['COP85', 'GXP1', 'MPMIS1']]\n",
    "\n",
    "# VAR 85\n",
    "var85 = VAR(endog, exogC_85)\n",
    "# x= var.select_order()\n",
    "# x.summary()\n",
    "results85 = var.fit(1)\n",
    "#We can check the summary of the model by.\n",
    "results85.summary()\n",
    "exogF_85 = exog.loc['2022-03-31':'2022-12-31', ['COP85', 'GXP1', 'MPMIS1']]\n",
    "forecast85 = results85.forecast(endog.values[-1:], steps=4, exog_future=exogF_85)\n",
    "forecastdf85 = pd.DataFrame(data = forecast85, columns = ['pc1', 'pc2', 'pc3', 'pc4', 'pc5', 'dlRY'], index=exogF_85.index)\n",
    "forecastdf85.reset_index(inplace=True)\n",
    "forecastdf85['dlRY']"
   ]
  },
  {
   "cell_type": "code",
   "execution_count": null,
   "id": "4ec76ea3",
   "metadata": {
    "pycharm": {
     "name": "#%%\n"
    }
   },
   "outputs": [],
   "source": [
    "exogC_105 = exog.loc['2017-03-31 00:00:00':'2021-12-31 00:00:00', ['COP105', 'GXP1', 'MPMIS1']]\n",
    "\n",
    "# VAR 105\n",
    "var105 = VAR(endog, exogC_105)\n",
    "# x= var.select_order()\n",
    "# x.summary()\n",
    "results105 = var.fit(1)\n",
    "#We can check the summary of the model by.\n",
    "results105.summary()\n",
    "exogF_105 = exog.loc['2022-03-31 00:00:00':'2022-12-31 00:00:00', ['COP105', 'GXP1', 'MPMIS1']]\n",
    "forecast105 = results105.forecast(endog.values[-1:], steps=4, exog_future=exogF_105)\n",
    "forecastdf105 = pd.DataFrame(data = forecast105, columns = ['pc1', 'pc2', 'pc3', 'pc4', 'pc5', 'dlRY'], index=exogF_105.index)\n",
    "forecastdf105.reset_index(inplace=True)\n",
    "forecastdf105['dlRY']"
   ]
  },
  {
   "cell_type": "code",
   "execution_count": null,
   "id": "d39415f7",
   "metadata": {
    "pycharm": {
     "name": "#%%\n"
    }
   },
   "outputs": [],
   "source": [
    "forecastdf105['dlRY'].plot()"
   ]
  },
  {
   "cell_type": "code",
   "execution_count": null,
   "id": "a2506df6",
   "metadata": {
    "pycharm": {
     "name": "#%%\n"
    }
   },
   "outputs": [],
   "source": [
    "# forecast105r[\"realgdp_forecasted\"] = growth_rate['RY'].iloc[-10-1] + forecastdf105['dlRY'.cumsum()"
   ]
  },
  {
   "cell_type": "code",
   "execution_count": null,
   "id": "b6866ed6",
   "metadata": {
    "pycharm": {
     "name": "#%%\n"
    }
   },
   "outputs": [],
   "source": [
    "# growth_rate['RY'].plot()"
   ]
  },
  {
   "cell_type": "code",
   "execution_count": null,
   "id": "7d10d5dd",
   "metadata": {
    "pycharm": {
     "name": "#%%\n"
    }
   },
   "outputs": [],
   "source": [
    "exogC_110 = exog.loc['2017-03-31 00:00:00':'2021-12-31 00:00:00', ['COP110', 'GXP1', 'MPMIS1']]\n",
    "\n",
    "# VAR 110\n",
    "var110 = VAR(endog, exogC_110)\n",
    "# x= var.select_order()\n",
    "# x.summary()\n",
    "results110 = var.fit(1)\n",
    "#We can check the summary of the model by.\n",
    "results110.summary()\n",
    "exogF_110 = exog.loc['2022-03-31 00:00:00':'2022-12-31 00:00:00', ['COP110', 'GXP1', 'MPMIS1']]\n",
    "forecast110 = results110.forecast(endog.values[-1:], steps=4, exog_future=exogF_110)\n",
    "forecastdf110 = pd.DataFrame(data = forecast110, columns = ['pc1', 'pc2', 'pc3', 'pc4', 'pc5', 'dlRY'], index=exogF_110.index)\n",
    "forecastdf110.reset_index(inplace=True)\n",
    "forecastdf110['dlRY']"
   ]
  },
  {
   "cell_type": "code",
   "execution_count": null,
   "id": "ac24001d",
   "metadata": {
    "pycharm": {
     "name": "#%%\n"
    }
   },
   "outputs": [],
   "source": [
    "forecastdf110['dlRY'].plot()"
   ]
  },
  {
   "cell_type": "code",
   "execution_count": null,
   "id": "0a1b351d",
   "metadata": {
    "pycharm": {
     "name": "#%%\n"
    }
   },
   "outputs": [],
   "source": []
  },
  {
   "cell_type": "code",
   "execution_count": null,
   "id": "cddca6b1",
   "metadata": {
    "pycharm": {
     "name": "#%%\n"
    }
   },
   "outputs": [],
   "source": []
  },
  {
   "cell_type": "code",
   "execution_count": null,
   "id": "09f7b1b6",
   "metadata": {
    "pycharm": {
     "name": "#%%\n"
    }
   },
   "outputs": [],
   "source": []
  },
  {
   "cell_type": "markdown",
   "id": "72242482",
   "metadata": {
    "pycharm": {
     "name": "#%% md\n"
    }
   },
   "source": [
    "#### Author: Bello Ahmed Dangiwa\n",
    "#### Central Bank of Nigeria\n"
   ]
  }
 ],
 "metadata": {
  "kernelspec": {
   "display_name": "Python 3 (ipykernel)",
   "language": "python",
   "name": "python3"
  },
  "language_info": {
   "codemirror_mode": {
    "name": "ipython",
    "version": 3
   },
   "file_extension": ".py",
   "mimetype": "text/x-python",
   "name": "python",
   "nbconvert_exporter": "python",
   "pygments_lexer": "ipython3",
   "version": "3.9.12"
  }
 },
 "nbformat": 4,
 "nbformat_minor": 5
}
